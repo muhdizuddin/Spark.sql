{
  "nbformat": 4,
  "nbformat_minor": 0,
  "metadata": {
    "colab": {
      "name": "test2.ipynb",
      "provenance": []
    },
    "kernelspec": {
      "name": "python3",
      "display_name": "Python 3"
    }
  },
  "cells": [
    {
      "cell_type": "code",
      "metadata": {
        "id": "oehgPA0Hb65V"
      },
      "source": [
        "!apt-get install openjdk-8-jdk-headless -qq > /dev/null\n",
        "!wget -q https://www-us.apache.org/dist/spark/spark-3.0.0/spark-3.0.0-bin-hadoop2.7.tgz\n",
        "!tar -xvf spark-3.0.0-bin-hadoop2.7.tgz\n",
        "!pip install -q findspark"
      ],
      "execution_count": null,
      "outputs": []
    },
    {
      "cell_type": "code",
      "metadata": {
        "id": "bQpbYwqfhgka"
      },
      "source": [
        "import os\n",
        "os.environ[\"JAVA_HOME\"]=\"/usr/lib/jvm/java-8-openjdk-amd64\"\n",
        "os.environ[\"SPARK_HOME\"]=\"/content/spark-3.0.0-bin-hadoop2.7\""
      ],
      "execution_count": null,
      "outputs": []
    },
    {
      "cell_type": "code",
      "metadata": {
        "id": "1I-CRqZShj7n"
      },
      "source": [
        "import findspark\n",
        "findspark.init()\n",
        "\n",
        "from pyspark.sql import SparkSession\n",
        "from pyspark.sql.functions import udf\n",
        "from pyspark.sql.types import StringType\n",
        "from pyspark.sql.types import IntegerType\n",
        "from pyspark.sql.functions import desc\n",
        "from pyspark.sql.functions import asc\n",
        "from pyspark.sql.functions import sum as Fsum\n",
        "\n",
        "import datetime\n",
        "\n",
        "import numpy as np\n",
        "import pandas as pd\n",
        "%matplotlib inline\n",
        "import matplotlib.pyplot as plt"
      ],
      "execution_count": null,
      "outputs": []
    },
    {
      "cell_type": "code",
      "metadata": {
        "id": "YZLFvd3IhoI9"
      },
      "source": [
        "spark = SparkSession\\\n",
        "  .builder\\\n",
        "  .appName(\"universityranksvsaward\")\\\n",
        "  .getOrCreate()"
      ],
      "execution_count": null,
      "outputs": []
    },
    {
      "cell_type": "code",
      "metadata": {
        "id": "Nvaz574whw8b"
      },
      "source": [
        "path = \"data/Ranking System II.csv\"\n",
        "ranks = spark.read.csv(path ,header = \"True\")"
      ],
      "execution_count": null,
      "outputs": []
    },
    {
      "cell_type": "code",
      "metadata": {
        "id": "J-SJ4Qnti7r1",
        "colab": {
          "base_uri": "https://localhost:8080/",
          "height": 122
        },
        "outputId": "5c3bd4d4-35dc-46c0-c35c-ae94bd942624"
      },
      "source": [
        "ranks.take(5)"
      ],
      "execution_count": null,
      "outputs": [
        {
          "output_type": "execute_result",
          "data": {
            "text/plain": [
              "[Row(world_rank='1', university_name='Harvard University', national_rank='1', total_score='100.0', alumni='100.0', award='100.0', hici='100.0', ns='100.0', pub='100.0', pcp='72.4', year='2005'),\n",
              " Row(world_rank='2', university_name='University of Cambridge', national_rank='1', total_score='73.6', alumni='99.8', award='93.4', hici='53.3', ns='56.6', pub='70.9', pcp='66.9', year='2005'),\n",
              " Row(world_rank='3', university_name='Stanford University', national_rank='2', total_score='73.4', alumni='41.1', award='72.2', hici='88.5', ns='70.9', pub='72.3', pcp='65.0', year='2005'),\n",
              " Row(world_rank='4', university_name='University of California, Berkeley', national_rank='3', total_score='72.8', alumni='71.8', award='76.0', hici='69.4', ns='73.9', pub='72.2', pcp='52.7', year='2005'),\n",
              " Row(world_rank='5', university_name='Massachusetts Institute of Technology (MIT)', national_rank='4', total_score='70.1', alumni='74.0', award='80.6', hici='66.7', ns='65.8', pub='64.3', pcp='53.0', year='2005')]"
            ]
          },
          "metadata": {
            "tags": []
          },
          "execution_count": 21
        }
      ]
    },
    {
      "cell_type": "code",
      "metadata": {
        "id": "MsbaOgXPjG0w",
        "colab": {
          "base_uri": "https://localhost:8080/",
          "height": 238
        },
        "outputId": "dc9e34e0-0845-4a6c-ac2e-cfc20b92576c"
      },
      "source": [
        "ranks.printSchema()"
      ],
      "execution_count": null,
      "outputs": [
        {
          "output_type": "stream",
          "text": [
            "root\n",
            " |-- world_rank: string (nullable = true)\n",
            " |-- university_name: string (nullable = true)\n",
            " |-- national_rank: string (nullable = true)\n",
            " |-- total_score: string (nullable = true)\n",
            " |-- alumni: string (nullable = true)\n",
            " |-- award: string (nullable = true)\n",
            " |-- hici: string (nullable = true)\n",
            " |-- ns: string (nullable = true)\n",
            " |-- pub: string (nullable = true)\n",
            " |-- pcp: string (nullable = true)\n",
            " |-- year: string (nullable = true)\n",
            "\n"
          ],
          "name": "stdout"
        }
      ]
    },
    {
      "cell_type": "code",
      "metadata": {
        "id": "SQRMzHbBjMwK"
      },
      "source": [
        "ranks.createOrReplaceTempView(\"ranks_table\")"
      ],
      "execution_count": null,
      "outputs": []
    },
    {
      "cell_type": "code",
      "metadata": {
        "id": "bAO5DimUjqRT",
        "colab": {
          "base_uri": "https://localhost:8080/",
          "height": 207
        },
        "outputId": "0cc59116-8aa1-4c3e-e151-7478982f9dd1"
      },
      "source": [
        "spark.sql(\"select * from ranks_table limit 5\").show()"
      ],
      "execution_count": null,
      "outputs": [
        {
          "output_type": "stream",
          "text": [
            "+----------+--------------------+-------------+-----------+------+-----+-----+-----+-----+----+----+\n",
            "|world_rank|     university_name|national_rank|total_score|alumni|award| hici|   ns|  pub| pcp|year|\n",
            "+----------+--------------------+-------------+-----------+------+-----+-----+-----+-----+----+----+\n",
            "|         1|  Harvard University|            1|      100.0| 100.0|100.0|100.0|100.0|100.0|72.4|2005|\n",
            "|         2|University of Cam...|            1|       73.6|  99.8| 93.4| 53.3| 56.6| 70.9|66.9|2005|\n",
            "|         3| Stanford University|            2|       73.4|  41.1| 72.2| 88.5| 70.9| 72.3|65.0|2005|\n",
            "|         4|University of Cal...|            3|       72.8|  71.8| 76.0| 69.4| 73.9| 72.2|52.7|2005|\n",
            "|         5|Massachusetts Ins...|            4|       70.1|  74.0| 80.6| 66.7| 65.8| 64.3|53.0|2005|\n",
            "+----------+--------------------+-------------+-----------+------+-----+-----+-----+-----+----+----+\n",
            "\n"
          ],
          "name": "stdout"
        }
      ]
    },
    {
      "cell_type": "code",
      "metadata": {
        "id": "Z9gm0k7Nj2XO",
        "colab": {
          "base_uri": "https://localhost:8080/",
          "height": 207
        },
        "outputId": "9ceaa4da-cfd5-4de2-87bb-f4433a91de51"
      },
      "source": [
        "spark.sql('''\n",
        "  SELECT * \n",
        "  FROM ranks_table\n",
        "  LIMIT\n",
        "  5\n",
        "  '''\n",
        "   ).show()"
      ],
      "execution_count": null,
      "outputs": [
        {
          "output_type": "stream",
          "text": [
            "+----------+--------------------+-------------+-----------+------+-----+-----+-----+-----+----+----+\n",
            "|world_rank|     university_name|national_rank|total_score|alumni|award| hici|   ns|  pub| pcp|year|\n",
            "+----------+--------------------+-------------+-----------+------+-----+-----+-----+-----+----+----+\n",
            "|         1|  Harvard University|            1|      100.0| 100.0|100.0|100.0|100.0|100.0|72.4|2005|\n",
            "|         2|University of Cam...|            1|       73.6|  99.8| 93.4| 53.3| 56.6| 70.9|66.9|2005|\n",
            "|         3| Stanford University|            2|       73.4|  41.1| 72.2| 88.5| 70.9| 72.3|65.0|2005|\n",
            "|         4|University of Cal...|            3|       72.8|  71.8| 76.0| 69.4| 73.9| 72.2|52.7|2005|\n",
            "|         5|Massachusetts Ins...|            4|       70.1|  74.0| 80.6| 66.7| 65.8| 64.3|53.0|2005|\n",
            "+----------+--------------------+-------------+-----------+------+-----+-----+-----+-----+----+----+\n",
            "\n"
          ],
          "name": "stdout"
        }
      ]
    },
    {
      "cell_type": "code",
      "metadata": {
        "id": "dEAkn6mlj6Cu",
        "colab": {
          "base_uri": "https://localhost:8080/",
          "height": 459
        },
        "outputId": "64eb80d9-2202-41fc-bac4-b78042b2a74c"
      },
      "source": [
        "high_ranks = spark.sql('''\n",
        "   SELECT world_rank,university_name,award,year\n",
        "   FROM ranks_table\n",
        "   WHERE year = 2005\n",
        "''').show()"
      ],
      "execution_count": null,
      "outputs": [
        {
          "output_type": "stream",
          "text": [
            "+----------+--------------------+-----+----+\n",
            "|world_rank|     university_name|award|year|\n",
            "+----------+--------------------+-----+----+\n",
            "|         1|  Harvard University|100.0|2005|\n",
            "|         2|University of Cam...| 93.4|2005|\n",
            "|         3| Stanford University| 72.2|2005|\n",
            "|         4|University of Cal...| 76.0|2005|\n",
            "|         5|Massachusetts Ins...| 80.6|2005|\n",
            "|         6|California Instit...| 68.6|2005|\n",
            "|         7| Columbia University| 60.6|2005|\n",
            "|         8|Princeton University| 76.8|2005|\n",
            "|         9|University of Chi...| 81.9|2005|\n",
            "|        10|University of Oxford| 59.1|2005|\n",
            "|        11|     Yale University| 44.5|2005|\n",
            "|        12|  Cornell University| 52.4|2005|\n",
            "|        13|University of Cal...| 34.7|2005|\n",
            "|        14|University of Cal...| 32.8|2005|\n",
            "|        15|University of Pen...| 35.1|2005|\n",
            "|        16|University of Wis...| 36.3|2005|\n",
            "|        17|University of Was...| 32.4|2005|\n",
            "|        18|University of Cal...| 37.6|2005|\n",
            "|        19|The Johns Hopkins...| 28.3|2005|\n",
            "|        20|The University of...| 14.4|2005|\n",
            "+----------+--------------------+-----+----+\n",
            "only showing top 20 rows\n",
            "\n"
          ],
          "name": "stdout"
        }
      ]
    },
    {
      "cell_type": "code",
      "metadata": {
        "id": "nmj4MI3okvgx",
        "colab": {
          "base_uri": "https://localhost:8080/",
          "height": 119
        },
        "outputId": "5d1685fb-f172-4af0-bf1c-bc39e00b0598"
      },
      "source": [
        "highest_award = spark.sql('''\n",
        "   SELECT max(award) as maxaward\n",
        "   FROM ranks_table\n",
        "   WHERE year = 2005\n",
        "''').show()"
      ],
      "execution_count": null,
      "outputs": [
        {
          "output_type": "stream",
          "text": [
            "+--------+\n",
            "|maxaward|\n",
            "+--------+\n",
            "|    93.4|\n",
            "+--------+\n",
            "\n"
          ],
          "name": "stdout"
        }
      ]
    },
    {
      "cell_type": "code",
      "metadata": {
        "id": "5_M-Nc9Bqx8q",
        "colab": {
          "base_uri": "https://localhost:8080/",
          "height": 119
        },
        "outputId": "f9483e30-7c81-4595-d8d3-2c7d028a50bd"
      },
      "source": [
        "min_award = spark.sql('''\n",
        "   SELECT min(award) as minaward\n",
        "   FROM ranks_table\n",
        "   WHERE year = 2005\n",
        "''').show()"
      ],
      "execution_count": null,
      "outputs": [
        {
          "output_type": "stream",
          "text": [
            "+--------+\n",
            "|minaward|\n",
            "+--------+\n",
            "|     0.0|\n",
            "+--------+\n",
            "\n"
          ],
          "name": "stdout"
        }
      ]
    },
    {
      "cell_type": "code",
      "metadata": {
        "id": "sZZbduBvrWOh",
        "colab": {
          "base_uri": "https://localhost:8080/",
          "height": 119
        },
        "outputId": "c257532a-f60d-45e3-9e32-7d66fd517205"
      },
      "source": [
        "meanaward = spark.sql('''\n",
        "   SELECT mean(award) as meanaward\n",
        "   FROM ranks_table\n",
        "   WHERE year = 2005 \n",
        "''').show()"
      ],
      "execution_count": null,
      "outputs": [
        {
          "output_type": "stream",
          "text": [
            "+-----------------+\n",
            "|        meanaward|\n",
            "+-----------------+\n",
            "|6.684800000000008|\n",
            "+-----------------+\n",
            "\n"
          ],
          "name": "stdout"
        }
      ]
    },
    {
      "cell_type": "code",
      "metadata": {
        "id": "dOoyCdyZvgb6",
        "colab": {
          "base_uri": "https://localhost:8080/",
          "height": 459
        },
        "outputId": "135b9c0d-3933-4fed-9959-993ac7235c78"
      },
      "source": [
        "spark.sql('''\n",
        "   SELECT world_rank,university_name,award,year\n",
        "   FROM ranks_table\n",
        "   WHERE year = 2005\n",
        "   ORDER BY award asc\n",
        "''').show()"
      ],
      "execution_count": null,
      "outputs": [
        {
          "output_type": "stream",
          "text": [
            "+----------+--------------------+-----+----+\n",
            "|world_rank|     university_name|award|year|\n",
            "+----------+--------------------+-----+----+\n",
            "|        99|     Lund University|  0.0|2005|\n",
            "|   101-152|University of Cal...|  0.0|2005|\n",
            "|   101-152|Baylor College of...|  0.0|2005|\n",
            "|        93|  University of Utah|  0.0|2005|\n",
            "|   101-152|Catholic Universi...|  0.0|2005|\n",
            "|        21|University of Mic...|  0.0|2005|\n",
            "|   101-152|   Dartmouth College|  0.0|2005|\n",
            "|        41|University of Cal...|  0.0|2005|\n",
            "|   101-152|    Emory University|  0.0|2005|\n",
            "|        47|University of Mar...|  0.0|2005|\n",
            "|   101-152|Georgia Institute...|  0.0|2005|\n",
            "|        57|University of Flo...|  0.0|2005|\n",
            "|   101-152| Hokkaido University|  0.0|2005|\n",
            "|        32|     Duke University|  0.0|2005|\n",
            "|   101-152|University of Ams...|  0.0|2005|\n",
            "|   101-152|   Kyushu University|  0.0|2005|\n",
            "|        73|   Tohoku University|  0.0|2005|\n",
            "|   101-152| Mayo Medical School|  0.0|2005|\n",
            "|        77|Michigan State Un...|  0.0|2005|\n",
            "|   101-152|National Universi...|  0.0|2005|\n",
            "+----------+--------------------+-----+----+\n",
            "only showing top 20 rows\n",
            "\n"
          ],
          "name": "stdout"
        }
      ]
    },
    {
      "cell_type": "code",
      "metadata": {
        "id": "ejruk-73wGlZ",
        "colab": {
          "base_uri": "https://localhost:8080/",
          "height": 306
        },
        "outputId": "5d5d3017-5ded-4301-d099-f812f5db9bb4"
      },
      "source": [
        "spark.sql('''\n",
        "   SELECT world_rank,university_name,award,year\n",
        "   FROM ranks_table\n",
        "   WHERE year = 2005 and award > 50\n",
        "   ORDER BY award desc\n",
        "''').show()"
      ],
      "execution_count": null,
      "outputs": [
        {
          "output_type": "stream",
          "text": [
            "+----------+--------------------+-----+----+\n",
            "|world_rank|     university_name|award|year|\n",
            "+----------+--------------------+-----+----+\n",
            "|         2|University of Cam...| 93.4|2005|\n",
            "|         9|University of Chi...| 81.9|2005|\n",
            "|         5|Massachusetts Ins...| 80.6|2005|\n",
            "|         8|Princeton University| 76.8|2005|\n",
            "|         4|University of Cal...| 76.0|2005|\n",
            "|         3| Stanford University| 72.2|2005|\n",
            "|         6|California Instit...| 68.6|2005|\n",
            "|         7| Columbia University| 60.6|2005|\n",
            "|        30|Rockefeller Unive...| 59.8|2005|\n",
            "|        10|University of Oxford| 59.1|2005|\n",
            "|        12|  Cornell University| 52.4|2005|\n",
            "|         1|  Harvard University|100.0|2005|\n",
            "+----------+--------------------+-----+----+\n",
            "\n"
          ],
          "name": "stdout"
        }
      ]
    },
    {
      "cell_type": "code",
      "metadata": {
        "id": "-GpD_FEC5BRR"
      },
      "source": [
        "column_names = ['world_rank','university_name','national_rank','total_score','alumni','award','hici','ns','pub','pcp','year']"
      ],
      "execution_count": null,
      "outputs": []
    },
    {
      "cell_type": "code",
      "metadata": {
        "id": "Z_c2g9fk5cT-",
        "colab": {
          "base_uri": "https://localhost:8080/",
          "height": 54
        },
        "outputId": "7c4e1c44-27ec-407f-efa5-60dff0045f37"
      },
      "source": [
        "ranks[(ranks.world_rank < 6) & (ranks.award > 50)]"
      ],
      "execution_count": null,
      "outputs": [
        {
          "output_type": "execute_result",
          "data": {
            "text/plain": [
              "DataFrame[world_rank: string, university_name: string, national_rank: string, total_score: string, alumni: string, award: string, hici: string, ns: string, pub: string, pcp: string, year: string]"
            ]
          },
          "metadata": {
            "tags": []
          },
          "execution_count": 78
        }
      ]
    },
    {
      "cell_type": "code",
      "metadata": {
        "id": "AzMiq9Yu8dq4",
        "colab": {
          "base_uri": "https://localhost:8080/",
          "height": 163
        },
        "outputId": "666b0b78-5ecc-41db-8b40-39090573af18"
      },
      "source": [
        "ranks.groupby('world_rank')['award'].mean().plot()"
      ],
      "execution_count": null,
      "outputs": [
        {
          "output_type": "error",
          "ename": "TypeError",
          "evalue": "ignored",
          "traceback": [
            "\u001b[0;31m---------------------------------------------------------------------------\u001b[0m",
            "\u001b[0;31mTypeError\u001b[0m                                 Traceback (most recent call last)",
            "\u001b[0;32m<ipython-input-79-45fa78595b85>\u001b[0m in \u001b[0;36m<module>\u001b[0;34m()\u001b[0m\n\u001b[0;32m----> 1\u001b[0;31m \u001b[0mranks\u001b[0m\u001b[0;34m.\u001b[0m\u001b[0mgroupby\u001b[0m\u001b[0;34m(\u001b[0m\u001b[0;34m'world_rank'\u001b[0m\u001b[0;34m)\u001b[0m\u001b[0;34m[\u001b[0m\u001b[0;34m'award'\u001b[0m\u001b[0;34m]\u001b[0m\u001b[0;34m.\u001b[0m\u001b[0mmean\u001b[0m\u001b[0;34m(\u001b[0m\u001b[0;34m)\u001b[0m\u001b[0;34m.\u001b[0m\u001b[0mplot\u001b[0m\u001b[0;34m(\u001b[0m\u001b[0;34m)\u001b[0m\u001b[0;34m\u001b[0m\u001b[0;34m\u001b[0m\u001b[0m\n\u001b[0m",
            "\u001b[0;31mTypeError\u001b[0m: 'GroupedData' object is not subscriptable"
          ]
        }
      ]
    }
  ]
}